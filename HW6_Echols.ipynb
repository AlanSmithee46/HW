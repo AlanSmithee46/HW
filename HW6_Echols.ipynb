{
 "cells": [
  {
   "cell_type": "markdown",
   "id": "73eb25a0",
   "metadata": {},
   "source": [
    "# HW6"
   ]
  },
  {
   "cell_type": "markdown",
   "id": "03c287ba",
   "metadata": {},
   "source": [
    "## Problem 1\n",
    "\n",
    "Use the Oxford Flowers 102 category dataset from HW 1 and the CSV file\n",
    "given here for this problem. Use a data generator to read data from folders\n",
    "and form tensors to feed into a network. You can use image augmentation as\n",
    "needed. Use the CSV for this purpose. Create a training and validation set."
   ]
  },
  {
   "cell_type": "code",
   "execution_count": 1,
   "id": "80265543",
   "metadata": {
    "scrolled": true
   },
   "outputs": [],
   "source": [
    "import numpy as np\n",
    "import pandas as pd\n",
    "import matplotlib.pyplot as plt\n",
    "import os\n",
    "import cv2\n",
    "import tensorflow as tf\n",
    "from tensorflow.keras.preprocessing.image import ImageDataGenerator\n",
    "from tensorflow.keras.models import Sequential\n",
    "from tensorflow.keras.layers import *\n",
    "from tensorflow.keras.optimizers import *\n",
    "from skimage import *\n",
    "from sklearn.model_selection import train_test_split"
   ]
  },
  {
   "cell_type": "code",
   "execution_count": 3,
   "id": "a84080d8",
   "metadata": {},
   "outputs": [
    {
     "name": "stdout",
     "output_type": "stream",
     "text": [
      "Num GPUs Available:  1\n",
      "2.10.0\n"
     ]
    }
   ],
   "source": [
    "print(\"Num GPUs Available: \", len(tf.config.list_physical_devices('GPU')))\n",
    "print(tf.__version__)"
   ]
  },
  {
   "cell_type": "code",
   "execution_count": 4,
   "id": "25c1a39f",
   "metadata": {},
   "outputs": [],
   "source": [
    "INPUT_SIZE = 256\n",
    "BATCH_SIZE = 64\n",
    "\n",
    "SEED = 12345\n",
    "np.random.seed(SEED)\n",
    "\n",
    "\n",
    "df = pd.read_csv(r'C:\\Users\\Ethan\\Desktop\\CS450\\flowers.csv')\n",
    "labels_new = df.sort_values('labels')\n",
    "myclasses = list(labels_new.labels.unique())\n",
    "NUMCLASSES = len(myclasses)\n",
    "path = r'C:\\Users\\Ethan\\Desktop\\CS450\\oxford_flowers_102\\jpg'"
   ]
  },
  {
   "cell_type": "code",
   "execution_count": 5,
   "id": "4ebf6c44",
   "metadata": {},
   "outputs": [],
   "source": [
    "from skimage import exposure\n",
    "\n",
    "def preprocess(img):\n",
    "    # Contrast stretching\n",
    "    p2, p98 = np.percentile(img, (2, 98))\n",
    "    img_rescale = exposure.rescale_intensity(img, in_range=(p2, p98))\n",
    "    \n",
    "    return img_rescale\n"
   ]
  },
  {
   "cell_type": "code",
   "execution_count": 6,
   "id": "ffdab716",
   "metadata": {},
   "outputs": [],
   "source": [
    "train_datagen = ImageDataGenerator(\n",
    "                                featurewise_center=False,\n",
    "                                samplewise_center=True,\n",
    "                                featurewise_std_normalization=False,\n",
    "                                samplewise_std_normalization=True,\n",
    "                                zca_epsilon=1e-06,\n",
    "                                rotation_range=5,\n",
    "                                width_shift_range=0.05,\n",
    "                                height_shift_range=0.05,\n",
    "                                brightness_range=None,\n",
    "                                shear_range=0.5,\n",
    "                                zoom_range=0.05,\n",
    "                                channel_shift_range=0.0,\n",
    "                                fill_mode=\"nearest\",\n",
    "                                cval=0.0,\n",
    "                                horizontal_flip=False,\n",
    "                                vertical_flip=False,\n",
    "                                rescale=1./255,\n",
    "                                preprocessing_function=None,#preprocess,\n",
    "                                data_format=None,\n",
    "                                validation_split=0.2,\n",
    "                                dtype=None,\n",
    "                            )\n"
   ]
  },
  {
   "cell_type": "code",
   "execution_count": 7,
   "id": "1b2c6097",
   "metadata": {},
   "outputs": [],
   "source": [
    "# Make a dtaframe with all the file paths and labels\n",
    "allfilelist = []\n",
    "alllabels = []\n",
    "alllabels_word = []\n",
    "for i in range(NUMCLASSES):\n",
    "    filepath = path\n",
    "    filelist = os.listdir(filepath)\n",
    "    for f in filelist:\n",
    "        if f.lower() == 'thumbs.db':\n",
    "            continue\n",
    "        \n",
    "        fullpath = filepath + '/' + f\n",
    "        allfilelist.append(fullpath)\n",
    "        alllabels.append(i)\n",
    "        alllabels_word.append(myclasses[i])\n",
    "        \n",
    "d = {'filename':allfilelist,'labelnum':alllabels,'label':alllabels_word}\n",
    "\n",
    "df = pd.DataFrame(d)\n",
    "df[\"label\"] = df['label'].astype(str)"
   ]
  },
  {
   "cell_type": "code",
   "execution_count": 8,
   "id": "7c9db80e",
   "metadata": {},
   "outputs": [
    {
     "data": {
      "text/html": [
       "<div>\n",
       "<style scoped>\n",
       "    .dataframe tbody tr th:only-of-type {\n",
       "        vertical-align: middle;\n",
       "    }\n",
       "\n",
       "    .dataframe tbody tr th {\n",
       "        vertical-align: top;\n",
       "    }\n",
       "\n",
       "    .dataframe thead th {\n",
       "        text-align: right;\n",
       "    }\n",
       "</style>\n",
       "<table border=\"1\" class=\"dataframe\">\n",
       "  <thead>\n",
       "    <tr style=\"text-align: right;\">\n",
       "      <th></th>\n",
       "      <th>filename</th>\n",
       "      <th>labelnum</th>\n",
       "      <th>label</th>\n",
       "    </tr>\n",
       "  </thead>\n",
       "  <tbody>\n",
       "    <tr>\n",
       "      <th>0</th>\n",
       "      <td>C:\\Users\\Ethan\\Desktop\\CS450\\oxford_flowers_10...</td>\n",
       "      <td>0</td>\n",
       "      <td>1</td>\n",
       "    </tr>\n",
       "    <tr>\n",
       "      <th>1</th>\n",
       "      <td>C:\\Users\\Ethan\\Desktop\\CS450\\oxford_flowers_10...</td>\n",
       "      <td>0</td>\n",
       "      <td>1</td>\n",
       "    </tr>\n",
       "    <tr>\n",
       "      <th>2</th>\n",
       "      <td>C:\\Users\\Ethan\\Desktop\\CS450\\oxford_flowers_10...</td>\n",
       "      <td>0</td>\n",
       "      <td>1</td>\n",
       "    </tr>\n",
       "    <tr>\n",
       "      <th>3</th>\n",
       "      <td>C:\\Users\\Ethan\\Desktop\\CS450\\oxford_flowers_10...</td>\n",
       "      <td>0</td>\n",
       "      <td>1</td>\n",
       "    </tr>\n",
       "    <tr>\n",
       "      <th>4</th>\n",
       "      <td>C:\\Users\\Ethan\\Desktop\\CS450\\oxford_flowers_10...</td>\n",
       "      <td>0</td>\n",
       "      <td>1</td>\n",
       "    </tr>\n",
       "    <tr>\n",
       "      <th>...</th>\n",
       "      <td>...</td>\n",
       "      <td>...</td>\n",
       "      <td>...</td>\n",
       "    </tr>\n",
       "    <tr>\n",
       "      <th>835273</th>\n",
       "      <td>C:\\Users\\Ethan\\Desktop\\CS450\\oxford_flowers_10...</td>\n",
       "      <td>101</td>\n",
       "      <td>102</td>\n",
       "    </tr>\n",
       "    <tr>\n",
       "      <th>835274</th>\n",
       "      <td>C:\\Users\\Ethan\\Desktop\\CS450\\oxford_flowers_10...</td>\n",
       "      <td>101</td>\n",
       "      <td>102</td>\n",
       "    </tr>\n",
       "    <tr>\n",
       "      <th>835275</th>\n",
       "      <td>C:\\Users\\Ethan\\Desktop\\CS450\\oxford_flowers_10...</td>\n",
       "      <td>101</td>\n",
       "      <td>102</td>\n",
       "    </tr>\n",
       "    <tr>\n",
       "      <th>835276</th>\n",
       "      <td>C:\\Users\\Ethan\\Desktop\\CS450\\oxford_flowers_10...</td>\n",
       "      <td>101</td>\n",
       "      <td>102</td>\n",
       "    </tr>\n",
       "    <tr>\n",
       "      <th>835277</th>\n",
       "      <td>C:\\Users\\Ethan\\Desktop\\CS450\\oxford_flowers_10...</td>\n",
       "      <td>101</td>\n",
       "      <td>102</td>\n",
       "    </tr>\n",
       "  </tbody>\n",
       "</table>\n",
       "<p>835278 rows × 3 columns</p>\n",
       "</div>"
      ],
      "text/plain": [
       "                                                 filename  labelnum label\n",
       "0       C:\\Users\\Ethan\\Desktop\\CS450\\oxford_flowers_10...         0     1\n",
       "1       C:\\Users\\Ethan\\Desktop\\CS450\\oxford_flowers_10...         0     1\n",
       "2       C:\\Users\\Ethan\\Desktop\\CS450\\oxford_flowers_10...         0     1\n",
       "3       C:\\Users\\Ethan\\Desktop\\CS450\\oxford_flowers_10...         0     1\n",
       "4       C:\\Users\\Ethan\\Desktop\\CS450\\oxford_flowers_10...         0     1\n",
       "...                                                   ...       ...   ...\n",
       "835273  C:\\Users\\Ethan\\Desktop\\CS450\\oxford_flowers_10...       101   102\n",
       "835274  C:\\Users\\Ethan\\Desktop\\CS450\\oxford_flowers_10...       101   102\n",
       "835275  C:\\Users\\Ethan\\Desktop\\CS450\\oxford_flowers_10...       101   102\n",
       "835276  C:\\Users\\Ethan\\Desktop\\CS450\\oxford_flowers_10...       101   102\n",
       "835277  C:\\Users\\Ethan\\Desktop\\CS450\\oxford_flowers_10...       101   102\n",
       "\n",
       "[835278 rows x 3 columns]"
      ]
     },
     "execution_count": 8,
     "metadata": {},
     "output_type": "execute_result"
    }
   ],
   "source": [
    "df"
   ]
  },
  {
   "cell_type": "code",
   "execution_count": 9,
   "id": "c625b2c2",
   "metadata": {},
   "outputs": [
    {
     "name": "stdout",
     "output_type": "stream",
     "text": [
      "Found 668223 validated image filenames belonging to 102 classes.\n",
      "Found 167055 validated image filenames belonging to 102 classes.\n"
     ]
    }
   ],
   "source": [
    "training_set = train_datagen.flow_from_dataframe(\n",
    "                                            dataframe=df,\n",
    "                                            directory='',\n",
    "                                            x_col=\"filename\",\n",
    "                                            y_col=\"label\",\n",
    "                                            #weight_col=None,\n",
    "                                            target_size=(INPUT_SIZE, INPUT_SIZE),\n",
    "                                            color_mode=\"rgb\",\n",
    "                                            classes=None,\n",
    "                                            class_mode=\"categorical\",\n",
    "                                            batch_size=BATCH_SIZE,\n",
    "                                            shuffle=True,\n",
    "                                            seed=None,\n",
    "                                            save_to_dir=None,\n",
    "                                            save_prefix=\"\",\n",
    "                                            save_format=\"png\",\n",
    "                                            subset='training',\n",
    "                                            interpolation=\"nearest\",\n",
    "                                            #validate_filenames=True\n",
    "                                        )\n",
    "\n",
    "validation_set = train_datagen.flow_from_dataframe( dataframe=df,\n",
    "                                            directory='',\n",
    "                                            x_col=\"filename\",\n",
    "                                            y_col=\"label\",\n",
    "                                            #weight_col=None,\n",
    "                                            target_size=(INPUT_SIZE, INPUT_SIZE),\n",
    "                                            color_mode=\"rgb\",\n",
    "                                            classes=None,\n",
    "                                            class_mode=\"categorical\",\n",
    "                                            batch_size=BATCH_SIZE,\n",
    "                                            shuffle=True,\n",
    "                                            seed=None,\n",
    "                                            save_to_dir=None,\n",
    "                                            save_prefix=\"\",\n",
    "                                            save_format=\"png\",\n",
    "                                            subset='validation',\n",
    "                                            interpolation=\"nearest\",\n",
    "                                            #validate_filenames=True\n",
    "                                            )"
   ]
  },
  {
   "cell_type": "markdown",
   "id": "9e4e13c8",
   "metadata": {},
   "source": [
    "# Problem 2\n",
    "\n",
    "Design a small sequential CNN to classify the flowers into categories. I\n",
    "intentionally don’t specify a design – use something that can be trained on\n",
    "your computer"
   ]
  },
  {
   "cell_type": "code",
   "execution_count": 10,
   "id": "fe905d91",
   "metadata": {},
   "outputs": [
    {
     "name": "stdout",
     "output_type": "stream",
     "text": [
      "Model: \"sequential\"\n",
      "_________________________________________________________________\n",
      " Layer (type)                Output Shape              Param #   \n",
      "=================================================================\n",
      " conv2d (Conv2D)             (None, 256, 256, 32)      896       \n",
      "                                                                 \n",
      " conv2d_1 (Conv2D)           (None, 256, 256, 32)      9248      \n",
      "                                                                 \n",
      " max_pooling2d (MaxPooling2D  (None, 128, 128, 32)     0         \n",
      " )                                                               \n",
      "                                                                 \n",
      " dropout (Dropout)           (None, 128, 128, 32)      0         \n",
      "                                                                 \n",
      " conv2d_2 (Conv2D)           (None, 128, 128, 64)      18496     \n",
      "                                                                 \n",
      " conv2d_3 (Conv2D)           (None, 128, 128, 64)      36928     \n",
      "                                                                 \n",
      " max_pooling2d_1 (MaxPooling  (None, 64, 64, 64)       0         \n",
      " 2D)                                                             \n",
      "                                                                 \n",
      " dropout_1 (Dropout)         (None, 64, 64, 64)        0         \n",
      "                                                                 \n",
      " conv2d_4 (Conv2D)           (None, 64, 64, 128)       73856     \n",
      "                                                                 \n",
      " conv2d_5 (Conv2D)           (None, 64, 64, 128)       147584    \n",
      "                                                                 \n",
      " max_pooling2d_2 (MaxPooling  (None, 32, 32, 128)      0         \n",
      " 2D)                                                             \n",
      "                                                                 \n",
      " dropout_2 (Dropout)         (None, 32, 32, 128)       0         \n",
      "                                                                 \n",
      " flatten (Flatten)           (None, 131072)            0         \n",
      "                                                                 \n",
      " dense (Dense)               (None, 256)               33554688  \n",
      "                                                                 \n",
      " dropout_3 (Dropout)         (None, 256)               0         \n",
      "                                                                 \n",
      " dense_1 (Dense)             (None, 128)               32896     \n",
      "                                                                 \n",
      " dropout_4 (Dropout)         (None, 128)               0         \n",
      "                                                                 \n",
      " dense_2 (Dense)             (None, 102)               13158     \n",
      "                                                                 \n",
      "=================================================================\n",
      "Total params: 33,887,750\n",
      "Trainable params: 33,887,750\n",
      "Non-trainable params: 0\n",
      "_________________________________________________________________\n"
     ]
    },
    {
     "name": "stderr",
     "output_type": "stream",
     "text": [
      "C:\\Users\\Ethan\\anaconda3\\lib\\site-packages\\keras\\optimizers\\optimizer_v2\\adam.py:114: UserWarning: The `lr` argument is deprecated, use `learning_rate` instead.\n",
      "  super().__init__(name, **kwargs)\n"
     ]
    }
   ],
   "source": [
    "\n",
    "#from sklearn.model_selection import train_test_split\n",
    "#os.environ['CUDA_VISIBLE_DEVICES'] = '-1'\n",
    "\n",
    "model = Sequential()\n",
    "\n",
    "model.add(InputLayer(input_shape=[INPUT_SIZE,INPUT_SIZE,3])) #keras will internally add batch dimension\n",
    "\n",
    "model.add(Conv2D(filters=32,kernel_size=3,strides=1,padding='same', activation='relu'))\n",
    "model.add(Conv2D(filters=32,kernel_size=3,strides=1,padding='same', activation='relu'))\n",
    "model.add(MaxPool2D(pool_size=2,padding='same'))\n",
    "model.add(Dropout(0.4))\n",
    "\n",
    "model.add(Conv2D(filters=64,kernel_size=3,strides=1,padding='same', activation='relu'))\n",
    "model.add(Conv2D(filters=64,kernel_size=3,strides=1,padding='same', activation='relu'))\n",
    "model.add(MaxPool2D(pool_size=2,padding='same'))\n",
    "model.add(Dropout(0.4))\n",
    "\n",
    "model.add(Conv2D(filters=128,kernel_size=3,strides=1,padding='same', activation='relu'))\n",
    "model.add(Conv2D(filters=128,kernel_size=3,strides=1,padding='same', activation='relu'))\n",
    "model.add(MaxPool2D(pool_size=2,padding='same'))\n",
    "model.add(Dropout(0.4))\n",
    "\n",
    "\n",
    "model.add(Flatten())\n",
    "\n",
    "\n",
    "model.add(Dense(256,activation='relu'))\n",
    "model.add(Dropout(0.4))\n",
    "\n",
    "model.add(Dense(128,activation='relu'))\n",
    "model.add(Dropout(0.4))\n",
    "\n",
    "model.add(Dense(NUMCLASSES,activation='softmax'))\n",
    "\n",
    "\n",
    "model.compile(optimizer=Adam(lr=0.00001), loss='categorical_crossentropy',metrics=['accuracy'])\n",
    "model.summary()\n",
    "\n"
   ]
  },
  {
   "cell_type": "code",
   "execution_count": 11,
   "id": "60d47020",
   "metadata": {},
   "outputs": [
    {
     "name": "stdout",
     "output_type": "stream",
     "text": [
      "Epoch 0\n",
      "10441/10441 [==============================] - 20955s 2s/step - loss: 4.5238 - accuracy: 0.0122 - val_loss: 5.1227 - val_accuracy: 0.0000e+00\n",
      "Saved model to disk after 1 epochs.\n",
      "Epoch 1\n",
      "10441/10441 [==============================] - 20932s 2s/step - loss: 4.4446 - accuracy: 0.0124 - val_loss: 5.6494 - val_accuracy: 0.0000e+00\n",
      "Saved model to disk after 2 epochs.\n",
      "Epoch 2\n",
      "10441/10441 [==============================] - ETA: 0s - loss: 4.4243 - accuracy: 0.0124"
     ]
    },
    {
     "name": "stderr",
     "output_type": "stream",
     "text": [
      "\n",
      "KeyboardInterrupt\n",
      "\n"
     ]
    }
   ],
   "source": [
    "#Training\n",
    "\n",
    "for epoch in range(0,50):\n",
    "    print(\"Epoch\",epoch)\n",
    "    if epoch != 0:\n",
    "        # Load Model Weights\n",
    "        model.load_weights('model-normalized-aug.h5')    \n",
    "    history = model.fit(training_set,\n",
    "    steps_per_epoch=len(training_set),\n",
    "                   epochs=1,\n",
    "                   validation_data=validation_set,\n",
    "                   validation_steps = len(validation_set))\n",
    "\n",
    "    model.save_weights(\"model-normalized-aug.h5\")\n",
    "    print(\"Saved model to disk after\",epoch+1,\"epochs.\")"
   ]
  },
  {
   "cell_type": "code",
   "execution_count": null,
   "id": "ffd7d9a3",
   "metadata": {},
   "outputs": [],
   "source": [
    "history.history.keys()"
   ]
  },
  {
   "cell_type": "code",
   "execution_count": null,
   "id": "2432ffd4",
   "metadata": {},
   "outputs": [],
   "source": [
    "fig = plt.figure(figsize=(8,4))\n",
    "plt.plot(history.history['loss'],color='red')\n",
    "plt.plot(history.history['accuracy'],color='green')\n",
    "plt.plot(history.history['val_loss'],color='magenta')\n",
    "plt.plot(history.history['val_accuracy'],color='blue')\n",
    "plt.show()"
   ]
  },
  {
   "cell_type": "code",
   "execution_count": null,
   "id": "eeb77ada",
   "metadata": {},
   "outputs": [],
   "source": [
    "#Testing\n",
    "\n",
    "fig = plt.figure(figsize=(12, 18))\n",
    "for i in range(testdigits.shape[0]):\n",
    "    y = fig.add_subplot(9, 6, i+1)\n",
    "    img = digit(testdigits[i,:])\n",
    "    img = img.reshape(1,IMG_SIZE,IMG_SIZE,1)\n",
    "    model_out = model.predict(img)\n",
    "    print(np.uint16(model_out*100)/100)\n",
    "    str_label= str(np.argmax(model_out))\n",
    "    \n",
    "    y.imshow(digit(testdigits[i,:]),cmap='gray')\n",
    "    plt.title(str_label)\n",
    "    y.axes.get_xaxis().set_visible(False)\n",
    "    y.axes.get_yaxis().set_visible(False)\n",
    "    if i==53:\n",
    "        break;\n",
    "plt.show()\n"
   ]
  },
  {
   "cell_type": "markdown",
   "id": "f768fb37",
   "metadata": {},
   "source": [
    "# Extra Credit\n",
    "\n",
    "You can set aside 20% of the data at the beginning for\n",
    "testing. Now run your classifier on this 20% and plot the accuracy on a\n",
    "confusion matrix. You may take help from other programs done in class or\n",
    "from the web. "
   ]
  },
  {
   "cell_type": "code",
   "execution_count": null,
   "id": "b85a0d42",
   "metadata": {},
   "outputs": [],
   "source": []
  },
  {
   "cell_type": "code",
   "execution_count": null,
   "id": "0c29eab1",
   "metadata": {},
   "outputs": [],
   "source": []
  },
  {
   "cell_type": "code",
   "execution_count": null,
   "id": "74c00462",
   "metadata": {},
   "outputs": [],
   "source": []
  },
  {
   "cell_type": "code",
   "execution_count": null,
   "id": "a500122f",
   "metadata": {},
   "outputs": [],
   "source": []
  },
  {
   "cell_type": "code",
   "execution_count": null,
   "id": "6e72e11a",
   "metadata": {},
   "outputs": [],
   "source": []
  },
  {
   "cell_type": "code",
   "execution_count": null,
   "id": "67f44443",
   "metadata": {},
   "outputs": [],
   "source": []
  }
 ],
 "metadata": {
  "kernelspec": {
   "display_name": "Python 3 (ipykernel)",
   "language": "python",
   "name": "python3"
  },
  "language_info": {
   "codemirror_mode": {
    "name": "ipython",
    "version": 3
   },
   "file_extension": ".py",
   "mimetype": "text/x-python",
   "name": "python",
   "nbconvert_exporter": "python",
   "pygments_lexer": "ipython3",
   "version": "3.10.9"
  }
 },
 "nbformat": 4,
 "nbformat_minor": 5
}
